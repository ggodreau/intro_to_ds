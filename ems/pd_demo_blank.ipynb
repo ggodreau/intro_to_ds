{
 "cells": [
  {
   "cell_type": "markdown",
   "metadata": {},
   "source": [
    "# Working with Python and Pandas\n",
    "\n",
    "\n",
    "  - [Importing csv Files](#csv)\n",
    "  - [DateTime Objects](#dt)\n",
    "  - [Plotting and Charting](#plots)\n",
    "  - [Maps](#maps)\n",
    "  - [Reading Excel Files in Python](#excel)"
   ]
  },
  {
   "cell_type": "markdown",
   "metadata": {},
   "source": [
    "<a id='csv'></a>\n",
    "## Importing CSV files"
   ]
  },
  {
   "cell_type": "code",
   "execution_count": null,
   "metadata": {},
   "outputs": [],
   "source": [
    "import numpy as np\n",
    "import pandas as pd\n",
    "import re\n",
    "import json\n",
    "import gmaps\n",
    "import matplotlib.pyplot as plt\n",
    "%matplotlib inline"
   ]
  },
  {
   "cell_type": "code",
   "execution_count": null,
   "metadata": {},
   "outputs": [],
   "source": [
    "# https://data.austintexas.gov/Public-Safety/EMS-Spring-Festival-Season-2018-Incident-Details/q99r-2je5\n",
    "# https://data.austintexas.gov/resource/ddqt-6p93.json\n",
    "# SXSW 2018 was 3/9 - 3/18"
   ]
  },
  {
   "cell_type": "code",
   "execution_count": null,
   "metadata": {},
   "outputs": [],
   "source": []
  },
  {
   "cell_type": "markdown",
   "metadata": {},
   "source": [
    "<a id='dt'></a>\n",
    "## Changing to a DateTime Object"
   ]
  },
  {
   "cell_type": "code",
   "execution_count": null,
   "metadata": {},
   "outputs": [],
   "source": []
  },
  {
   "cell_type": "code",
   "execution_count": null,
   "metadata": {},
   "outputs": [],
   "source": []
  },
  {
   "cell_type": "markdown",
   "metadata": {},
   "source": [
    "Extract the day of the week from the date using `.dt.dayofweek`"
   ]
  },
  {
   "cell_type": "code",
   "execution_count": null,
   "metadata": {},
   "outputs": [],
   "source": []
  },
  {
   "cell_type": "markdown",
   "metadata": {},
   "source": [
    "Converting those day-of-week numbers into string values with dictionaries and `.apply()`"
   ]
  },
  {
   "cell_type": "code",
   "execution_count": null,
   "metadata": {},
   "outputs": [],
   "source": [
    "week_lookup = {\n",
    "    0 : 'Mon',\n",
    "    1 : 'Tue',\n",
    "    2 : 'Wed',\n",
    "    3 : 'Thurs',\n",
    "    4 : 'Fri',\n",
    "    5 : 'Sat',\n",
    "    6 : 'Sun'\n",
    "}"
   ]
  },
  {
   "cell_type": "markdown",
   "metadata": {},
   "source": [
    "Using our dictionary, we can 'look up' our weekdays by our numbers"
   ]
  },
  {
   "cell_type": "code",
   "execution_count": null,
   "metadata": {},
   "outputs": [],
   "source": [
    "# mon = 0, sun = 6"
   ]
  },
  {
   "cell_type": "markdown",
   "metadata": {},
   "source": [
    "For charting, let's use a number instead since it can be easily sorted"
   ]
  },
  {
   "cell_type": "code",
   "execution_count": null,
   "metadata": {},
   "outputs": [],
   "source": []
  },
  {
   "cell_type": "markdown",
   "metadata": {},
   "source": [
    "Next, let's get our events by hour"
   ]
  },
  {
   "cell_type": "code",
   "execution_count": null,
   "metadata": {},
   "outputs": [],
   "source": []
  },
  {
   "cell_type": "markdown",
   "metadata": {},
   "source": [
    "Here's a helper function which fills any any nulls for hours with zeroes and returns a list."
   ]
  },
  {
   "cell_type": "code",
   "execution_count": null,
   "metadata": {},
   "outputs": [],
   "source": [
    "# make an empty dict of zeroes\n",
    "ebh_dict = dict()\n",
    "for i in range(0,24):\n",
    "    ebh_dict[i] = 0\n",
    "\n",
    "# fill in the dict with our events by hour\n",
    "for k,v in ebh.items():\n",
    "    ebh_dict[k] = v\n",
    "    \n",
    "# make a tidy list of events by hour\n",
    "ebh = list(ebh_dict.values())\n",
    "\n",
    "#cleanup\n",
    "ebh_dict = None\n",
    "\n",
    "# final events by hour list\n",
    "print(ebh)"
   ]
  },
  {
   "cell_type": "markdown",
   "metadata": {},
   "source": [
    "<a id='plots'></a>\n",
    "## Plotting within a notebook"
   ]
  },
  {
   "cell_type": "code",
   "execution_count": null,
   "metadata": {},
   "outputs": [],
   "source": [
    "fig, axes = plt.subplots(nrows=1, ncols=2)\n",
    "fig.set_figwidth(10)\n",
    "\n",
    "for i, ax in enumerate(axes):\n",
    "    # graph on the left\n",
    "    if i == 0:\n",
    "        ax = plt.subplot(121, polar=True)\n",
    "        equals = np.linspace(0, 360, 24, endpoint=False)\n",
    "        ones = np.ones(24)\n",
    "        ax.plot(np.linspace(0,2*np.pi,num=24), ebh)    \n",
    "\n",
    "        # Set the circumference labels\n",
    "        ax.set_xticks(np.linspace(0, 2*np.pi, 24, endpoint=False))\n",
    "        ax.set_xticklabels(range(24))      \n",
    "\n",
    "        # Make the labels go clockwise\n",
    "        ax.set_theta_direction(-1)       \n",
    "\n",
    "        # Place 0 at the top\n",
    "        ax.set_theta_offset(np.pi/2.0) \n",
    "        ax.set_title('SXSW EMS Incidents by Hour', va='bottom')\n",
    "    # graph on the right:\n",
    "    if i == 1:\n",
    "        ax.set_title('SXSW EMS Incidents by Day')\n",
    "        ax.bar(ebd.index.tolist(), ebd.values.tolist())\n",
    "        ax.set_xticklabels(['foo'] + [week_lookup[x] for x in ebd.index.tolist()])\n",
    "   \n",
    "plt.plot();"
   ]
  },
  {
   "cell_type": "markdown",
   "metadata": {},
   "source": [
    "<a id='maps'></a>\n",
    "## Charting Stuff on a Map"
   ]
  },
  {
   "cell_type": "markdown",
   "metadata": {},
   "source": [
    "First, let's extract our latitude and longitude from our original dataframe"
   ]
  },
  {
   "cell_type": "code",
   "execution_count": null,
   "metadata": {},
   "outputs": [],
   "source": [
    "ems['lat'] = ems['Incident Location'].apply(lambda x: float(re.findall(r'-?\\d+.\\d+', x)[0]))\n",
    "ems['lon'] = ems['Incident Location'].apply(lambda x: float(re.findall(r'-?\\d+.\\d+', x)[1]))"
   ]
  },
  {
   "cell_type": "code",
   "execution_count": null,
   "metadata": {},
   "outputs": [],
   "source": []
  },
  {
   "cell_type": "markdown",
   "metadata": {},
   "source": [
    "Make a swaet mhap"
   ]
  },
  {
   "cell_type": "code",
   "execution_count": null,
   "metadata": {},
   "outputs": [],
   "source": [
    "with open(\"./constants.json\") as f:\n",
    "    data = f.read()\n",
    "    api_key = json.loads(data)['key']"
   ]
  },
  {
   "cell_type": "markdown",
   "metadata": {},
   "source": [
    "<a id='excel'><a>\n",
    "## Optional: Read in the Same EMS Dataset as an `.xlsx`"
   ]
  },
  {
   "cell_type": "code",
   "execution_count": null,
   "metadata": {},
   "outputs": [],
   "source": []
  },
  {
   "cell_type": "markdown",
   "metadata": {},
   "source": [
    "### We can also export our modified dataframe to excel using `pd.DataFrame.to_excel()`"
   ]
  },
  {
   "cell_type": "code",
   "execution_count": null,
   "metadata": {},
   "outputs": [],
   "source": [
    "# emsx.to_excel('./output.xlsx')"
   ]
  }
 ],
 "metadata": {
  "kernelspec": {
   "display_name": "Python 3",
   "language": "python",
   "name": "python3"
  },
  "language_info": {
   "codemirror_mode": {
    "name": "ipython",
    "version": 3
   },
   "file_extension": ".py",
   "mimetype": "text/x-python",
   "name": "python",
   "nbconvert_exporter": "python",
   "pygments_lexer": "ipython3",
   "version": "3.7.2"
  }
 },
 "nbformat": 4,
 "nbformat_minor": 2
}
