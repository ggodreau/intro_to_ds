{
 "cells": [
  {
   "cell_type": "markdown",
   "metadata": {},
   "source": [
    "## Diamonds Data\n",
    "\n",
    "In this project, we'll investigate the ability to predict the class (quality) of a diamond based on things like the cut geometries, shape, etc. We'll do this with a kNN algorithm for a binary classifier, as well as logistic regression for multi-classification."
   ]
  },
  {
   "cell_type": "markdown",
   "metadata": {},
   "source": [
    "## Imports"
   ]
  },
  {
   "cell_type": "code",
   "execution_count": 1,
   "metadata": {},
   "outputs": [],
   "source": [
    "import numpy as np\n",
    "import pandas as pd\n",
    "import matplotlib.pyplot as plt\n",
    "%matplotlib inline\n",
    "\n",
    "from sklearn.linear_model import LinearRegression, LogisticRegression\n",
    "from sklearn.dummy import DummyClassifier\n",
    "from sklearn.utils import resample\n",
    "from sklearn.neighbors import KNeighborsClassifier\n",
    "from sklearn.model_selection import train_test_split, cross_val_score, RandomizedSearchCV\n",
    "from sklearn.metrics import roc_curve, auc, confusion_matrix\n",
    "from sklearn.preprocessing import StandardScaler, LabelEncoder"
   ]
  },
  {
   "cell_type": "markdown",
   "metadata": {},
   "source": [
    "## Read in the Diamonds data\n",
    "This is data regarding 50,000 round cut diamonds.\n",
    "\n",
    "|Factor            |Description                                                                                 |\n",
    "|------------------|--------------------------------------------------------------------------------------------|\n",
    "|price             |price in US dollars (326-18,823)                                                            |\n",
    "|carat             |weight of the diamond (0.2--5.01)                                                           |\n",
    "|cut               |quality of the cut (Fair, Good, Very Good, Premium, Ideal)                                  |\n",
    "|color             |diamond colour, from J (worst) to D (best)                                                  |\n",
    "|clarity           |how clear the diamond is (I1 (worst), SI2, SI1, VS2, VS1, VVS2, VVS1, IF (best))            |\n",
    "|x                 |length in mm (0--10.74)                                                                     |\n",
    "|y                 |width in mm (0--58.9)                                                                       |\n",
    "|z                 |depth in mm (0--31.8)                                                                       |\n",
    "|depth             |total depth percentage = z / mean(x, y) = 2 * z / (x + y) (43--79)                          |\n",
    "|table             |width of top of diamond relative to widest point (43--95)                                   |"
   ]
  },
  {
   "cell_type": "code",
   "execution_count": 2,
   "metadata": {},
   "outputs": [],
   "source": [
    "dia = pd.read_csv('./diamonds.csv')"
   ]
  },
  {
   "cell_type": "markdown",
   "metadata": {},
   "source": [
    "## Explore the data"
   ]
  },
  {
   "cell_type": "code",
   "execution_count": 3,
   "metadata": {},
   "outputs": [
    {
     "data": {
      "text/html": [
       "<div>\n",
       "<style scoped>\n",
       "    .dataframe tbody tr th:only-of-type {\n",
       "        vertical-align: middle;\n",
       "    }\n",
       "\n",
       "    .dataframe tbody tr th {\n",
       "        vertical-align: top;\n",
       "    }\n",
       "\n",
       "    .dataframe thead th {\n",
       "        text-align: right;\n",
       "    }\n",
       "</style>\n",
       "<table border=\"1\" class=\"dataframe\">\n",
       "  <thead>\n",
       "    <tr style=\"text-align: right;\">\n",
       "      <th></th>\n",
       "      <th>carat</th>\n",
       "      <th>cut</th>\n",
       "      <th>color</th>\n",
       "      <th>clarity</th>\n",
       "      <th>depth</th>\n",
       "      <th>table</th>\n",
       "      <th>price</th>\n",
       "      <th>x</th>\n",
       "      <th>y</th>\n",
       "      <th>z</th>\n",
       "    </tr>\n",
       "  </thead>\n",
       "  <tbody>\n",
       "    <tr>\n",
       "      <th>0</th>\n",
       "      <td>0.23</td>\n",
       "      <td>Ideal</td>\n",
       "      <td>E</td>\n",
       "      <td>SI2</td>\n",
       "      <td>61.5</td>\n",
       "      <td>55.0</td>\n",
       "      <td>326</td>\n",
       "      <td>3.95</td>\n",
       "      <td>3.98</td>\n",
       "      <td>2.43</td>\n",
       "    </tr>\n",
       "    <tr>\n",
       "      <th>1</th>\n",
       "      <td>0.21</td>\n",
       "      <td>Premium</td>\n",
       "      <td>E</td>\n",
       "      <td>SI1</td>\n",
       "      <td>59.8</td>\n",
       "      <td>61.0</td>\n",
       "      <td>326</td>\n",
       "      <td>3.89</td>\n",
       "      <td>3.84</td>\n",
       "      <td>2.31</td>\n",
       "    </tr>\n",
       "    <tr>\n",
       "      <th>2</th>\n",
       "      <td>0.23</td>\n",
       "      <td>Good</td>\n",
       "      <td>E</td>\n",
       "      <td>VS1</td>\n",
       "      <td>56.9</td>\n",
       "      <td>65.0</td>\n",
       "      <td>327</td>\n",
       "      <td>4.05</td>\n",
       "      <td>4.07</td>\n",
       "      <td>2.31</td>\n",
       "    </tr>\n",
       "    <tr>\n",
       "      <th>3</th>\n",
       "      <td>0.29</td>\n",
       "      <td>Premium</td>\n",
       "      <td>I</td>\n",
       "      <td>VS2</td>\n",
       "      <td>62.4</td>\n",
       "      <td>58.0</td>\n",
       "      <td>334</td>\n",
       "      <td>4.20</td>\n",
       "      <td>4.23</td>\n",
       "      <td>2.63</td>\n",
       "    </tr>\n",
       "    <tr>\n",
       "      <th>4</th>\n",
       "      <td>0.31</td>\n",
       "      <td>Good</td>\n",
       "      <td>J</td>\n",
       "      <td>SI2</td>\n",
       "      <td>63.3</td>\n",
       "      <td>58.0</td>\n",
       "      <td>335</td>\n",
       "      <td>4.34</td>\n",
       "      <td>4.35</td>\n",
       "      <td>2.75</td>\n",
       "    </tr>\n",
       "  </tbody>\n",
       "</table>\n",
       "</div>"
      ],
      "text/plain": [
       "   carat      cut color clarity  depth  table  price     x     y     z\n",
       "0   0.23    Ideal     E     SI2   61.5   55.0    326  3.95  3.98  2.43\n",
       "1   0.21  Premium     E     SI1   59.8   61.0    326  3.89  3.84  2.31\n",
       "2   0.23     Good     E     VS1   56.9   65.0    327  4.05  4.07  2.31\n",
       "3   0.29  Premium     I     VS2   62.4   58.0    334  4.20  4.23  2.63\n",
       "4   0.31     Good     J     SI2   63.3   58.0    335  4.34  4.35  2.75"
      ]
     },
     "execution_count": 3,
     "metadata": {},
     "output_type": "execute_result"
    }
   ],
   "source": [
    "dia.head()"
   ]
  },
  {
   "cell_type": "code",
   "execution_count": 4,
   "metadata": {},
   "outputs": [
    {
     "data": {
      "image/png": "[encoded data removed]",
      "text/plain": [
       "<Figure size 432x288 with 1 Axes>"
      ]
     },
     "metadata": {
      "needs_background": "light"
     },
     "output_type": "display_data"
    }
   ],
   "source": [
    "dia.corr()['price'].abs().sort_values(ascending=False).iloc[1:].plot(kind='bar')\n",
    "plt.ylabel('Correlation to Price')\n",
    "plt.title('Correlation of Factors to Price')\n",
    "plt.show();"
   ]
  },
  {
   "cell_type": "markdown",
   "metadata": {},
   "source": [
    "## Filter the Data\n",
    "Filter the data to contain diamonds cuts of \"Ideal\" and \"Good\" only"
   ]
  },
  {
   "cell_type": "code",
   "execution_count": 5,
   "metadata": {},
   "outputs": [],
   "source": [
    "dia.drop(index=dia[ ~dia['cut'].isin(['Ideal', 'Good']) ].index, inplace=True)"
   ]
  },
  {
   "cell_type": "markdown",
   "metadata": {},
   "source": [
    "## Downsample the Majority Class"
   ]
  },
  {
   "cell_type": "code",
   "execution_count": 6,
   "metadata": {},
   "outputs": [
    {
     "data": {
      "text/plain": [
       "Ideal    21551\n",
       "Good      4906\n",
       "Name: cut, dtype: int64"
      ]
     },
     "execution_count": 6,
     "metadata": {},
     "output_type": "execute_result"
    }
   ],
   "source": [
    "# We have a large class imbalance here, more than 4 to 1 in favor of 'Ideal'\n",
    "# Since we have a fair number of samples, let's downsample our majority class\n",
    "# instead of upsampling the minority class.\n",
    "dia['cut'].value_counts()"
   ]
  },
  {
   "cell_type": "code",
   "execution_count": 7,
   "metadata": {},
   "outputs": [],
   "source": [
    "def balance_df(df, col_name):\n",
    "    '''\n",
    "    Downsamples an input dataframe\n",
    "    to the minority class label frequency.\n",
    "    \n",
    "    Inputs:\n",
    "    =======\n",
    "    df : DataFrame, the full input dataframe\n",
    "    col_name : string, the column label to be\n",
    "    downsampled\n",
    "    \n",
    "    Outputs:\n",
    "    ========\n",
    "    DataFrame : copy of the original dataframe\n",
    "    with col_name classes downsampled\n",
    "    '''\n",
    "    balanced_index = set([])\n",
    "    for class_label in df[col_name].unique():\n",
    "        balanced_index.update(\n",
    "            resample(\n",
    "                df[ df[col_name]==class_label],\n",
    "                n_samples=df[col_name].value_counts()[-1],\n",
    "                replace=False,\n",
    "                random_state=1337).index\n",
    "        )\n",
    "    return df.loc[balanced_index, :]"
   ]
  },
  {
   "cell_type": "code",
   "execution_count": 8,
   "metadata": {},
   "outputs": [],
   "source": [
    "# Note that we are passing a version of dia\n",
    "# that ONLY has the 'Good' and 'Ideal' cut \n",
    "# values in it.\n",
    "dia = balance_df(dia, 'cut')"
   ]
  },
  {
   "cell_type": "code",
   "execution_count": 9,
   "metadata": {},
   "outputs": [
    {
     "data": {
      "text/plain": [
       "Good     4906\n",
       "Ideal    4906\n",
       "Name: cut, dtype: int64"
      ]
     },
     "execution_count": 9,
     "metadata": {},
     "output_type": "execute_result"
    }
   ],
   "source": [
    "dia['cut'].value_counts()"
   ]
  },
  {
   "cell_type": "markdown",
   "metadata": {},
   "source": [
    "## Prepare our X, y matrices\n",
    "Let's construct an `X` matrix using **all numeric columns** from the diamond data.\n",
    "\n",
    "We'll be predicting `cut`. Construct a `y` vector in a numeric format that can be used by scikit-learn."
   ]
  },
  {
   "cell_type": "code",
   "execution_count": 10,
   "metadata": {},
   "outputs": [],
   "source": [
    "X = dia.select_dtypes('number').astype('float64') # convert to float64 explicitly for StandardScaler\n",
    "y = dia['cut']"
   ]
  },
  {
   "cell_type": "markdown",
   "metadata": {},
   "source": [
    "## Scale the X matrix using a Standard Scaler"
   ]
  },
  {
   "cell_type": "code",
   "execution_count": 11,
   "metadata": {},
   "outputs": [],
   "source": [
    "sc = StandardScaler()\n",
    "X_sc = sc.fit_transform(X)"
   ]
  },
  {
   "cell_type": "markdown",
   "metadata": {},
   "source": [
    "## Split Into Test and Train Groups\n",
    "\n",
    "Now that we've downsampled/balanced our classes, as well as removed unused factors, we're ready to split into test and train groups. We're doing this avoid _leaking information into our test set_. \n",
    "\n",
    "- First, we'll perform cross-validation on our _train_ set, finding an optimial value for $k$. \n",
    "- After this, we'll take that value of $k$ and use it to fit our model to the _train_ set, creating our tuned model.\n",
    "- Finally, we will take this same model and use it to _predict_ and _score_ against our _test_ set.\n",
    "- Note that our model at this point will have never seen, nor trained against the _test_ set.\n",
    "\n",
    "In the future, we can automate this process using a [pipeline](https://scikit-learn.org/stable/modules/generated/sklearn.pipeline.Pipeline.html)."
   ]
  },
  {
   "cell_type": "code",
   "execution_count": 12,
   "metadata": {},
   "outputs": [],
   "source": [
    "# Note that we use stratify=y to preserve our class label balance through the split\n",
    "X_train, X_test, y_train, y_test = train_test_split(\n",
    "    X_sc, y, test_size=0.3, random_state=1337, stratify=y)"
   ]
  },
  {
   "cell_type": "code",
   "execution_count": 13,
   "metadata": {},
   "outputs": [
    {
     "data": {
      "text/plain": [
       "Good     3434\n",
       "Ideal    3434\n",
       "Name: cut, dtype: int64"
      ]
     },
     "execution_count": 13,
     "metadata": {},
     "output_type": "execute_result"
    }
   ],
   "source": [
    "y_train.value_counts()"
   ]
  },
  {
   "cell_type": "code",
   "execution_count": 14,
   "metadata": {},
   "outputs": [
    {
     "data": {
      "text/plain": [
       "Good     1472\n",
       "Ideal    1472\n",
       "Name: cut, dtype: int64"
      ]
     },
     "execution_count": 14,
     "metadata": {},
     "output_type": "execute_result"
    }
   ],
   "source": [
    "y_test.value_counts()"
   ]
  },
  {
   "cell_type": "markdown",
   "metadata": {},
   "source": [
    "## k-Nearest Neighbors\n",
    "Let's fit a kNN model here, but first we need to tune our model to find the best value of $k$. Let's loop through values of $k$ we think are appropriate and select the value that produces the best model with respect to our **5-fold cross-validation**."
   ]
  },
  {
   "cell_type": "code",
   "execution_count": 15,
   "metadata": {},
   "outputs": [],
   "source": [
    "scores = {}\n",
    "for k in range(1,101):\n",
    "    knn = KNeighborsClassifier(n_neighbors=k)\n",
    "    scores[k] = cross_val_score(knn, X_train, y_train, cv=5).mean()"
   ]
  },
  {
   "cell_type": "markdown",
   "metadata": {},
   "source": [
    "## Produce the plot of tuning parameter (k) vs Accuracy\n",
    "What is the \"best\" value of k?"
   ]
  },
  {
   "cell_type": "code",
   "execution_count": 16,
   "metadata": {},
   "outputs": [
    {
     "data": {
      "image/png": "[encoded data removed]",
      "text/plain": [
       "<Figure size 432x288 with 1 Axes>"
      ]
     },
     "metadata": {
      "needs_background": "light"
     },
     "output_type": "display_data"
    }
   ],
   "source": [
    "pd.Series(scores).plot()\n",
    "plt.xticks(list(scores.keys())[::6])\n",
    "plt.title('Mean Accuracy [%] vs k, 5-fold CV')\n",
    "plt.show();"
   ]
  },
  {
   "cell_type": "code",
   "execution_count": 17,
   "metadata": {},
   "outputs": [
    {
     "data": {
      "text/plain": [
       "9     0.969133\n",
       "7     0.968551\n",
       "11    0.968113\n",
       "dtype: float64"
      ]
     },
     "execution_count": 17,
     "metadata": {},
     "output_type": "execute_result"
    }
   ],
   "source": [
    "# It looks like k = 9 yields the greatest mean accuracy\n",
    "pd.Series(scores).sort_values(ascending=False).head(3)"
   ]
  },
  {
   "cell_type": "markdown",
   "metadata": {},
   "source": [
    "## Produce the Best kNN Model\n",
    "Now that we know the optimal value of k, fit a kNN on the training set (this training set should still filtered to \"Ideal\" and \"Good\" cuts)."
   ]
  },
  {
   "cell_type": "code",
   "execution_count": 18,
   "metadata": {},
   "outputs": [
    {
     "data": {
      "text/plain": [
       "KNeighborsClassifier(algorithm='auto', leaf_size=30, metric='minkowski',\n",
       "           metric_params=None, n_jobs=None, n_neighbors=9, p=2,\n",
       "           weights='uniform')"
      ]
     },
     "execution_count": 18,
     "metadata": {},
     "output_type": "execute_result"
    }
   ],
   "source": [
    "knn = KNeighborsClassifier(n_neighbors=pd.Series(scores).sort_values(ascending=False)[:1].index[0])\n",
    "knn.fit(X_train, y_train)"
   ]
  },
  {
   "cell_type": "code",
   "execution_count": 19,
   "metadata": {},
   "outputs": [
    {
     "data": {
      "text/plain": [
       "9"
      ]
     },
     "execution_count": 19,
     "metadata": {},
     "output_type": "execute_result"
    }
   ],
   "source": [
    "knn.get_params()['n_neighbors']"
   ]
  },
  {
   "cell_type": "code",
   "execution_count": 20,
   "metadata": {},
   "outputs": [],
   "source": [
    "# Encode 'Good' and 'Ideal' to 0 and 1 respectively\n",
    "# This is needed for the ROC/AUC functions as they\n",
    "# don't work with string values. We'll store the\n",
    "# encoded result in 'y_test_bl'.\n",
    "le = LabelEncoder()\n",
    "y_test_bl = le.fit_transform(y_test) # y_test binary labels"
   ]
  },
  {
   "cell_type": "code",
   "execution_count": 21,
   "metadata": {},
   "outputs": [
    {
     "data": {
      "text/html": [
       "<div>\n",
       "<style scoped>\n",
       "    .dataframe tbody tr th:only-of-type {\n",
       "        vertical-align: middle;\n",
       "    }\n",
       "\n",
       "    .dataframe tbody tr th {\n",
       "        vertical-align: top;\n",
       "    }\n",
       "\n",
       "    .dataframe thead th {\n",
       "        text-align: right;\n",
       "    }\n",
       "</style>\n",
       "<table border=\"1\" class=\"dataframe\">\n",
       "  <thead>\n",
       "    <tr style=\"text-align: right;\">\n",
       "      <th></th>\n",
       "      <th>encoded</th>\n",
       "      <th>cut</th>\n",
       "    </tr>\n",
       "  </thead>\n",
       "  <tbody>\n",
       "    <tr>\n",
       "      <th>0</th>\n",
       "      <td>1</td>\n",
       "      <td>Ideal</td>\n",
       "    </tr>\n",
       "    <tr>\n",
       "      <th>1</th>\n",
       "      <td>1</td>\n",
       "      <td>Ideal</td>\n",
       "    </tr>\n",
       "    <tr>\n",
       "      <th>2</th>\n",
       "      <td>1</td>\n",
       "      <td>Ideal</td>\n",
       "    </tr>\n",
       "    <tr>\n",
       "      <th>3</th>\n",
       "      <td>1</td>\n",
       "      <td>Ideal</td>\n",
       "    </tr>\n",
       "    <tr>\n",
       "      <th>4</th>\n",
       "      <td>0</td>\n",
       "      <td>Good</td>\n",
       "    </tr>\n",
       "  </tbody>\n",
       "</table>\n",
       "</div>"
      ],
      "text/plain": [
       "   encoded    cut\n",
       "0        1  Ideal\n",
       "1        1  Ideal\n",
       "2        1  Ideal\n",
       "3        1  Ideal\n",
       "4        0   Good"
      ]
     },
     "execution_count": 21,
     "metadata": {},
     "output_type": "execute_result"
    }
   ],
   "source": [
    "# And here's the result, joined to the original data to\n",
    "# show the translation\n",
    "pd.DataFrame(y_test_bl, columns=['encoded']).join(y_test.reset_index(drop=True)).head()"
   ]
  },
  {
   "cell_type": "code",
   "execution_count": 22,
   "metadata": {},
   "outputs": [
    {
     "data": {
      "text/plain": [
       "array(['Good', 'Ideal'], dtype=object)"
      ]
     },
     "execution_count": 22,
     "metadata": {},
     "output_type": "execute_result"
    }
   ],
   "source": [
    "le.classes_"
   ]
  },
  {
   "cell_type": "code",
   "execution_count": 23,
   "metadata": {},
   "outputs": [],
   "source": [
    "# Create sweeps of true and false positive rates\n",
    "# First argument is the true binary class labels ('Good', 'Ideal')\n",
    "# Second argument is the probability of a class '1' ('Good')\n",
    "# predicted value, given the knn trained model\n",
    "fpr, tpr, threshold = roc_curve(y_test_bl, knn.predict_proba(X_test)[:,1])"
   ]
  },
  {
   "cell_type": "code",
   "execution_count": 24,
   "metadata": {},
   "outputs": [
    {
     "data": {
      "image/png": "[encoded data removed]",
      "text/plain": [
       "<Figure size 432x288 with 1 Axes>"
      ]
     },
     "metadata": {
      "needs_background": "light"
     },
     "output_type": "display_data"
    }
   ],
   "source": [
    "plt.title(f\"ROC knn={knn.get_params()['n_neighbors']}\")\n",
    "plt.plot(fpr, tpr, 'b', label = f'AUC = {auc(fpr, tpr):0.3f}', lw=3)\n",
    "# plot the baseline ROC curve\n",
    "plt.plot([0, 1], [0, 1],'g--', lw=1, label='Baseline')\n",
    "# give a little margin here on the chart\n",
    "plt.xlim([-0.02, 1])\n",
    "plt.ylim([0, 1.02])\n",
    "plt.ylabel('True Positive Rate')\n",
    "plt.xlabel('False Positive Rate')\n",
    "plt.legend(loc = 'lower right')\n",
    "plt.show();"
   ]
  },
  {
   "cell_type": "markdown",
   "metadata": {},
   "source": [
    "Here's our confusion matrix in the default orientation:\n",
    "\n",
    "|-|-|\n",
    "|---|---|\n",
    "|TN | FP |\n",
    "|FN | TP |"
   ]
  },
  {
   "cell_type": "code",
   "execution_count": 25,
   "metadata": {},
   "outputs": [
    {
     "data": {
      "text/html": [
       "<div>\n",
       "<style scoped>\n",
       "    .dataframe tbody tr th:only-of-type {\n",
       "        vertical-align: middle;\n",
       "    }\n",
       "\n",
       "    .dataframe tbody tr th {\n",
       "        vertical-align: top;\n",
       "    }\n",
       "\n",
       "    .dataframe thead th {\n",
       "        text-align: right;\n",
       "    }\n",
       "</style>\n",
       "<table border=\"1\" class=\"dataframe\">\n",
       "  <thead>\n",
       "    <tr style=\"text-align: right;\">\n",
       "      <th></th>\n",
       "      <th>Good</th>\n",
       "      <th>Ideal</th>\n",
       "    </tr>\n",
       "  </thead>\n",
       "  <tbody>\n",
       "    <tr>\n",
       "      <th>Good</th>\n",
       "      <td>1412</td>\n",
       "      <td>60</td>\n",
       "    </tr>\n",
       "    <tr>\n",
       "      <th>Ideal</th>\n",
       "      <td>42</td>\n",
       "      <td>1430</td>\n",
       "    </tr>\n",
       "  </tbody>\n",
       "</table>\n",
       "</div>"
      ],
      "text/plain": [
       "       Good  Ideal\n",
       "Good   1412     60\n",
       "Ideal    42   1430"
      ]
     },
     "execution_count": 25,
     "metadata": {},
     "output_type": "execute_result"
    }
   ],
   "source": [
    "# Confusion matrix; predicted values on top (column)\n",
    "# actual values on the side (index)\n",
    "pd.DataFrame(confusion_matrix(y_test_bl,\\\n",
    "    le.transform(knn.predict(X_test)), labels=[0, 1]),\\\n",
    "    columns=le.classes_, index=le.classes_)"
   ]
  },
  {
   "cell_type": "markdown",
   "metadata": {},
   "source": [
    "And the same data in the inverted orientation:\n",
    "\n",
    "|-|-|\n",
    "|---|---|\n",
    "|TP | FN |\n",
    "|FP | TN |"
   ]
  },
  {
   "cell_type": "code",
   "execution_count": 26,
   "metadata": {},
   "outputs": [
    {
     "data": {
      "text/html": [
       "<div>\n",
       "<style scoped>\n",
       "    .dataframe tbody tr th:only-of-type {\n",
       "        vertical-align: middle;\n",
       "    }\n",
       "\n",
       "    .dataframe tbody tr th {\n",
       "        vertical-align: top;\n",
       "    }\n",
       "\n",
       "    .dataframe thead th {\n",
       "        text-align: right;\n",
       "    }\n",
       "</style>\n",
       "<table border=\"1\" class=\"dataframe\">\n",
       "  <thead>\n",
       "    <tr style=\"text-align: right;\">\n",
       "      <th></th>\n",
       "      <th>Ideal</th>\n",
       "      <th>Good</th>\n",
       "    </tr>\n",
       "  </thead>\n",
       "  <tbody>\n",
       "    <tr>\n",
       "      <th>Ideal</th>\n",
       "      <td>1430</td>\n",
       "      <td>42</td>\n",
       "    </tr>\n",
       "    <tr>\n",
       "      <th>Good</th>\n",
       "      <td>60</td>\n",
       "      <td>1412</td>\n",
       "    </tr>\n",
       "  </tbody>\n",
       "</table>\n",
       "</div>"
      ],
      "text/plain": [
       "       Ideal  Good\n",
       "Ideal   1430    42\n",
       "Good      60  1412"
      ]
     },
     "execution_count": 26,
     "metadata": {},
     "output_type": "execute_result"
    }
   ],
   "source": [
    "# Confusion matrix; predicted values on top (column)\n",
    "# actual values on the side (index)\n",
    "pd.DataFrame(confusion_matrix(y_test_bl, \\\n",
    "    le.transform(knn.predict(X_test)), labels=[1, 0]), \\\n",
    "    columns=le.classes_[::-1], index=le.classes_[::-1])"
   ]
  },
  {
   "cell_type": "markdown",
   "metadata": {},
   "source": [
    "## Does this model outperform the baseline?"
   ]
  },
  {
   "cell_type": "code",
   "execution_count": 27,
   "metadata": {},
   "outputs": [
    {
     "name": "stdout",
     "output_type": "stream",
     "text": [
      "Baseline accuracy is 50.0% on our test set.\n"
     ]
    }
   ],
   "source": [
    "# Build a model that always predicts the majority class\n",
    "# Train it full train set, and test it on the test set\n",
    "# Note that both sets are perfectly class balanced, so this\n",
    "# should be 50%.\n",
    "print(f\"Baseline accuracy is \\\n",
    "{DummyClassifier(strategy='most_frequent').fit(X_train, y_train).score(X_test, y_test)*100:.1f}% \\\n",
    "on our test set.\")"
   ]
  },
  {
   "cell_type": "code",
   "execution_count": 28,
   "metadata": {},
   "outputs": [
    {
     "name": "stdout",
     "output_type": "stream",
     "text": [
      "Knn of 9 neighbors yields an accuracy of 96.5% on our test set.\n"
     ]
    }
   ],
   "source": [
    "print(f\"Knn of {knn.get_params()['n_neighbors']} neighbors yields \\\n",
    "an accuracy of {knn.score(X_test, y_test)*100:.1f}% on our test set.\")"
   ]
  },
  {
   "cell_type": "markdown",
   "metadata": {},
   "source": [
    "## Prediction\n",
    "Suppose I have a diamond with the following specifications:"
   ]
  },
  {
   "cell_type": "code",
   "execution_count": 29,
   "metadata": {},
   "outputs": [],
   "source": [
    "new_diamond = pd.DataFrame({\n",
    "    'carat': 0.24,\n",
    "    'depth': 60.,\n",
    "    'table': 64.,\n",
    "    'price': 400.,\n",
    "    'x': 3.,\n",
    "    'y': 3.,\n",
    "    'z': 3.\n",
    "}, index=[0])"
   ]
  },
  {
   "cell_type": "markdown",
   "metadata": {},
   "source": [
    "What do we predict the cut of this diamond to be?"
   ]
  },
  {
   "cell_type": "code",
   "execution_count": 30,
   "metadata": {},
   "outputs": [
    {
     "data": {
      "text/plain": [
       "array(['Good'], dtype=object)"
      ]
     },
     "execution_count": 30,
     "metadata": {},
     "output_type": "execute_result"
    }
   ],
   "source": [
    "knn.predict(sc.transform(new_diamond))"
   ]
  },
  {
   "cell_type": "markdown",
   "metadata": {},
   "source": [
    "The new diamond is probably of cut quality \"Good\"."
   ]
  },
  {
   "cell_type": "markdown",
   "metadata": {},
   "source": [
    "# Logistic Regression on all the Cut Classes"
   ]
  },
  {
   "cell_type": "markdown",
   "metadata": {},
   "source": [
    "Using the _full_ diamonds data set, let's produce a **logistic regression** model that achieves the best 5-fold cross validation. Note that for this problem, we are doing multi-class classification. The response variable has _five_ categories."
   ]
  },
  {
   "cell_type": "code",
   "execution_count": 31,
   "metadata": {},
   "outputs": [],
   "source": [
    "# Let's read in the data and overwrite any previous\n",
    "# dataframes.\n",
    "\n",
    "dia = pd.read_csv('./diamonds.csv')"
   ]
  },
  {
   "cell_type": "code",
   "execution_count": 32,
   "metadata": {},
   "outputs": [],
   "source": [
    "# Here we are re-using the balance_df function we wrote before.\n",
    "# We could optionally upsample our minority classes to help strike\n",
    "# a balance between generating data and 'destroying' data, but we've\n",
    "# elected to downsample to keep the data small and fast for training.\n",
    "\n",
    "dia = balance_df(dia, 'cut')"
   ]
  },
  {
   "cell_type": "code",
   "execution_count": 33,
   "metadata": {},
   "outputs": [
    {
     "data": {
      "text/plain": [
       "Premium      1610\n",
       "Good         1610\n",
       "Fair         1610\n",
       "Ideal        1610\n",
       "Very Good    1610\n",
       "Name: cut, dtype: int64"
      ]
     },
     "execution_count": 33,
     "metadata": {},
     "output_type": "execute_result"
    }
   ],
   "source": [
    "# Here we can see that our majority classes have all 'come down'\n",
    "# to meet the number of samples for our 'lowest common denominator'\n",
    "# minority class, which has 1,610 samples.\n",
    "\n",
    "dia['cut'].value_counts()"
   ]
  },
  {
   "cell_type": "code",
   "execution_count": 34,
   "metadata": {},
   "outputs": [],
   "source": [
    "# Here we are creating an array of floats for our\n",
    "# X array, and two copies of our y. One y is the \n",
    "# string representation of our classes, and y_bl\n",
    "# is the label-encoded version of our string classes.\n",
    "# This is needed for confusion matricies as well as\n",
    "# more sophisticated practices. We can convert to and \n",
    "# from these label encodings using the .transform() \n",
    "# and .inverse_transform() methods.\n",
    "\n",
    "X = dia.select_dtypes('number').astype('float64') # convert to float64 explicitly for StandardScaler\n",
    "y = dia['cut']\n",
    "le = LabelEncoder()\n",
    "y_bl = le.fit_transform(y)"
   ]
  },
  {
   "cell_type": "code",
   "execution_count": 35,
   "metadata": {},
   "outputs": [
    {
     "data": {
      "text/plain": [
       "array(['Fair', 'Good', 'Ideal', 'Premium', 'Very Good'], dtype=object)"
      ]
     },
     "execution_count": 35,
     "metadata": {},
     "output_type": "execute_result"
    }
   ],
   "source": [
    "le.classes_"
   ]
  },
  {
   "cell_type": "code",
   "execution_count": 36,
   "metadata": {},
   "outputs": [],
   "source": [
    "# Scale all X factors, note we are\n",
    "# storing the scaling object in 'sc'. \n",
    "# This can be used on future data to scale\n",
    "# it as well.\n",
    "\n",
    "sc = StandardScaler()\n",
    "X_sc = sc.fit_transform(X)"
   ]
  },
  {
   "cell_type": "code",
   "execution_count": 37,
   "metadata": {},
   "outputs": [],
   "source": [
    "# We're using the same technique as before here, reserving\n",
    "# our testing data for testing only, never exposing it to \n",
    "# our cross-validation. Note how we are scaling and encoding\n",
    "# our X and y arrays prior to this step. This is a luxury\n",
    "# we have available to us because we have both testing and \n",
    "# training data at this time. In the future, we will need\n",
    "# fault tolerant processing steps to handle data we \n",
    "# haven't seen before which may not match data we've \n",
    "# trained againse previously. Note that we are preserving\n",
    "# our class balance with the 'stratify' kwarg.\n",
    "\n",
    "X_train, X_test, y_train, y_test = train_test_split(\n",
    "    X_sc, y_bl, test_size=0.3, random_state=1337, stratify=y_bl)"
   ]
  },
  {
   "cell_type": "code",
   "execution_count": 38,
   "metadata": {},
   "outputs": [
    {
     "data": {
      "image/png": "[encoded data removed]",
      "text/plain": [
       "<Figure size 432x288 with 1 Axes>"
      ]
     },
     "metadata": {
      "needs_background": "light"
     },
     "output_type": "display_data"
    }
   ],
   "source": [
    "# Before we start tuning, we'll need to set up a\n",
    "# parameter space to sweep over when we tune our\n",
    "# hyperparameter, C. We've selected a log space\n",
    "# here to cover more ground, and charted the result\n",
    "# on a log plot to give an idea of the space\n",
    "# we are covering. The goal is to set a space fairly\n",
    "# wide, and converge onto a (hopefully) global min\n",
    "# or max as an optimal value.\n",
    "\n",
    "pd.Series(np.logspace(-10,10,num=100)).plot()\n",
    "plt.yscale('log')\n",
    "plt.show();"
   ]
  },
  {
   "cell_type": "code",
   "execution_count": 39,
   "metadata": {},
   "outputs": [],
   "source": [
    "# Here we are using a randomized search to tune our\n",
    "# hyperparameters. This is similar to a grid search,\n",
    "# only we set up the bounds of values we'd like to \n",
    "# search over, and the model randomly selects from \n",
    "# those values. We will be tuning the value of C, \n",
    "# which is the regularization parameter. We have\n",
    "# 100 values to select from, and we'll be sampling 10\n",
    "# of them to help save training time.\n",
    "\n",
    "rs = RandomizedSearchCV(\n",
    "    LogisticRegression(solver='lbfgs', class_weight='balanced', multi_class='ovr'),\n",
    "    {'C': np.logspace(-10,10,num=100)},\n",
    "    cv=5,\n",
    "    n_iter=len(np.logspace(-10,10,num=100))/10 # sample 1/10th of the total C's\n",
    ")"
   ]
  },
  {
   "cell_type": "code",
   "execution_count": 40,
   "metadata": {},
   "outputs": [
    {
     "data": {
      "text/plain": [
       "RandomizedSearchCV(cv=5, error_score='raise-deprecating',\n",
       "          estimator=LogisticRegression(C=1.0, class_weight='balanced', dual=False,\n",
       "          fit_intercept=True, intercept_scaling=1, max_iter=100,\n",
       "          multi_class='ovr', n_jobs=None, penalty='l2', random_state=None,\n",
       "          solver='lbfgs', tol=0.0001, verbose=0, warm_start=False),\n",
       "          fit_params=None, iid='warn', n_iter=10.0, n_jobs=None,\n",
       "          param_distributions={'C': array([1.00000e-10, 1.59228e-10, ..., 6.28029e+09, 1.00000e+10])},\n",
       "          pre_dispatch='2*n_jobs', random_state=None, refit=True,\n",
       "          return_train_score='warn', scoring=None, verbose=0)"
      ]
     },
     "execution_count": 40,
     "metadata": {},
     "output_type": "execute_result"
    }
   ],
   "source": [
    "# This is where we fit out model to the training data.\n",
    "# Note that our RandomizedSearchCV takes care of \n",
    "# cross-validation for us, as well as trying different\n",
    "# hyperparameter values for C. The scoring metric will be\n",
    "# evaluated, and a 'best model' object will be placed into the\n",
    "# .best_estimator_ class attribute, pre-configured\n",
    "# with the hyperparameters that yielded the highest score\n",
    "# during our training step.\n",
    "rs.fit(X_train, y_train)"
   ]
  },
  {
   "cell_type": "code",
   "execution_count": 41,
   "metadata": {},
   "outputs": [
    {
     "data": {
      "text/plain": [
       "2477076355.991714"
      ]
     },
     "execution_count": 41,
     "metadata": {},
     "output_type": "execute_result"
    }
   ],
   "source": [
    "# Here we can see the value of C (inverse regularization parameter)\n",
    "# that our random search selected. Smaller values imply more\n",
    "# regularization of our fitting coefficients.\n",
    "rs.best_estimator_.C"
   ]
  },
  {
   "cell_type": "code",
   "execution_count": 42,
   "metadata": {},
   "outputs": [
    {
     "data": {
      "text/html": [
       "<div>\n",
       "<style scoped>\n",
       "    .dataframe tbody tr th:only-of-type {\n",
       "        vertical-align: middle;\n",
       "    }\n",
       "\n",
       "    .dataframe tbody tr th {\n",
       "        vertical-align: top;\n",
       "    }\n",
       "\n",
       "    .dataframe thead th {\n",
       "        text-align: right;\n",
       "    }\n",
       "</style>\n",
       "<table border=\"1\" class=\"dataframe\">\n",
       "  <thead>\n",
       "    <tr style=\"text-align: right;\">\n",
       "      <th></th>\n",
       "      <th>carat</th>\n",
       "      <th>cut</th>\n",
       "      <th>color</th>\n",
       "      <th>clarity</th>\n",
       "      <th>depth</th>\n",
       "      <th>table</th>\n",
       "      <th>price</th>\n",
       "      <th>x</th>\n",
       "      <th>y</th>\n",
       "      <th>z</th>\n",
       "      <th>Fair</th>\n",
       "      <th>Good</th>\n",
       "      <th>Ideal</th>\n",
       "      <th>Premium</th>\n",
       "      <th>Very Good</th>\n",
       "      <th>Pred</th>\n",
       "      <th>Actual</th>\n",
       "    </tr>\n",
       "  </thead>\n",
       "  <tbody>\n",
       "    <tr>\n",
       "      <th>0</th>\n",
       "      <td>0.29</td>\n",
       "      <td>Premium</td>\n",
       "      <td>I</td>\n",
       "      <td>VS2</td>\n",
       "      <td>62.4</td>\n",
       "      <td>58.0</td>\n",
       "      <td>334</td>\n",
       "      <td>4.20</td>\n",
       "      <td>4.23</td>\n",
       "      <td>2.63</td>\n",
       "      <td>-2.322687</td>\n",
       "      <td>-1.173046</td>\n",
       "      <td>-3.713865</td>\n",
       "      <td>-1.313604</td>\n",
       "      <td>-1.206193</td>\n",
       "      <td>Good</td>\n",
       "      <td>Premium</td>\n",
       "    </tr>\n",
       "    <tr>\n",
       "      <th>1</th>\n",
       "      <td>0.31</td>\n",
       "      <td>Good</td>\n",
       "      <td>J</td>\n",
       "      <td>SI2</td>\n",
       "      <td>63.3</td>\n",
       "      <td>58.0</td>\n",
       "      <td>335</td>\n",
       "      <td>4.34</td>\n",
       "      <td>4.35</td>\n",
       "      <td>2.75</td>\n",
       "      <td>-1.729270</td>\n",
       "      <td>-2.144315</td>\n",
       "      <td>-1.521210</td>\n",
       "      <td>-0.999231</td>\n",
       "      <td>-2.130077</td>\n",
       "      <td>Premium</td>\n",
       "      <td>Good</td>\n",
       "    </tr>\n",
       "    <tr>\n",
       "      <th>2</th>\n",
       "      <td>0.34</td>\n",
       "      <td>Ideal</td>\n",
       "      <td>D</td>\n",
       "      <td>SI1</td>\n",
       "      <td>62.0</td>\n",
       "      <td>56.0</td>\n",
       "      <td>803</td>\n",
       "      <td>4.50</td>\n",
       "      <td>4.47</td>\n",
       "      <td>2.78</td>\n",
       "      <td>-0.895668</td>\n",
       "      <td>-1.461680</td>\n",
       "      <td>-5.164644</td>\n",
       "      <td>-1.413503</td>\n",
       "      <td>-2.199901</td>\n",
       "      <td>Fair</td>\n",
       "      <td>Ideal</td>\n",
       "    </tr>\n",
       "    <tr>\n",
       "      <th>3</th>\n",
       "      <td>0.34</td>\n",
       "      <td>Premium</td>\n",
       "      <td>D</td>\n",
       "      <td>SI1</td>\n",
       "      <td>62.4</td>\n",
       "      <td>58.0</td>\n",
       "      <td>803</td>\n",
       "      <td>4.46</td>\n",
       "      <td>4.42</td>\n",
       "      <td>2.77</td>\n",
       "      <td>-1.654534</td>\n",
       "      <td>-1.592352</td>\n",
       "      <td>-3.322770</td>\n",
       "      <td>-0.986658</td>\n",
       "      <td>-1.627098</td>\n",
       "      <td>Premium</td>\n",
       "      <td>Premium</td>\n",
       "    </tr>\n",
       "    <tr>\n",
       "      <th>4</th>\n",
       "      <td>0.22</td>\n",
       "      <td>Fair</td>\n",
       "      <td>E</td>\n",
       "      <td>VS2</td>\n",
       "      <td>65.1</td>\n",
       "      <td>61.0</td>\n",
       "      <td>337</td>\n",
       "      <td>3.87</td>\n",
       "      <td>3.78</td>\n",
       "      <td>2.49</td>\n",
       "      <td>-2.525573</td>\n",
       "      <td>-1.338947</td>\n",
       "      <td>-1.126940</td>\n",
       "      <td>-2.756383</td>\n",
       "      <td>-1.308142</td>\n",
       "      <td>Ideal</td>\n",
       "      <td>Fair</td>\n",
       "    </tr>\n",
       "  </tbody>\n",
       "</table>\n",
       "</div>"
      ],
      "text/plain": [
       "   carat      cut color clarity  depth  table  price     x     y     z  \\\n",
       "0   0.29  Premium     I     VS2   62.4   58.0    334  4.20  4.23  2.63   \n",
       "1   0.31     Good     J     SI2   63.3   58.0    335  4.34  4.35  2.75   \n",
       "2   0.34    Ideal     D     SI1   62.0   56.0    803  4.50  4.47  2.78   \n",
       "3   0.34  Premium     D     SI1   62.4   58.0    803  4.46  4.42  2.77   \n",
       "4   0.22     Fair     E     VS2   65.1   61.0    337  3.87  3.78  2.49   \n",
       "\n",
       "       Fair      Good     Ideal   Premium  Very Good     Pred   Actual  \n",
       "0 -2.322687 -1.173046 -3.713865 -1.313604  -1.206193     Good  Premium  \n",
       "1 -1.729270 -2.144315 -1.521210 -0.999231  -2.130077  Premium     Good  \n",
       "2 -0.895668 -1.461680 -5.164644 -1.413503  -2.199901     Fair    Ideal  \n",
       "3 -1.654534 -1.592352 -3.322770 -0.986658  -1.627098  Premium  Premium  \n",
       "4 -2.525573 -1.338947 -1.126940 -2.756383  -1.308142    Ideal     Fair  "
      ]
     },
     "execution_count": 42,
     "metadata": {},
     "output_type": "execute_result"
    }
   ],
   "source": [
    "# This is an interesting table, the join between four tables:\n",
    "# 1) The original X_test feature table\n",
    "# 2) The log probability returned for each of the classes \n",
    "# from our model\n",
    "# 3) The ACTUAL predicted value (Pred), which is the max\n",
    "# of the log probabilities of the classes.\n",
    "# 4) A new column 'Actual', which is just a copy of the \n",
    "# original 'cut' column, placed on the end for clarity.\n",
    "# Note how our 'Pred' column (predicted value) doesn't\n",
    "# always match our 'cut' column (actual value), however\n",
    "# our log probabilities (columns 'Fair' through 'Very Good')\n",
    "# inclusive give us the likelihood of a class, which is helpful\n",
    "# to gauge the certainty of our classification.\n",
    "\n",
    "dia.reset_index(drop=True).join(\n",
    "    pd.DataFrame(rs.best_estimator_.predict_log_proba(X_test),\n",
    "                 columns=le.classes_)\n",
    ").join(\n",
    "    pd.DataFrame(le.inverse_transform(rs.best_estimator_.predict(X_test)),\n",
    "                 columns=['Pred'])\n",
    ").join(\n",
    "    pd.DataFrame(dia['cut'].reset_index(drop=True).values, columns=['Actual'])\n",
    ").head()"
   ]
  },
  {
   "cell_type": "code",
   "execution_count": 43,
   "metadata": {},
   "outputs": [
    {
     "data": {
      "text/html": [
       "<div>\n",
       "<style scoped>\n",
       "    .dataframe tbody tr th:only-of-type {\n",
       "        vertical-align: middle;\n",
       "    }\n",
       "\n",
       "    .dataframe tbody tr th {\n",
       "        vertical-align: top;\n",
       "    }\n",
       "\n",
       "    .dataframe thead th {\n",
       "        text-align: right;\n",
       "    }\n",
       "</style>\n",
       "<table border=\"1\" class=\"dataframe\">\n",
       "  <thead>\n",
       "    <tr style=\"text-align: right;\">\n",
       "      <th></th>\n",
       "      <th>Fair</th>\n",
       "      <th>Good</th>\n",
       "      <th>Ideal</th>\n",
       "      <th>Premium</th>\n",
       "      <th>Very Good</th>\n",
       "    </tr>\n",
       "  </thead>\n",
       "  <tbody>\n",
       "    <tr>\n",
       "      <th>Fair</th>\n",
       "      <td>333</td>\n",
       "      <td>41</td>\n",
       "      <td>25</td>\n",
       "      <td>73</td>\n",
       "      <td>11</td>\n",
       "    </tr>\n",
       "    <tr>\n",
       "      <th>Good</th>\n",
       "      <td>90</td>\n",
       "      <td>156</td>\n",
       "      <td>93</td>\n",
       "      <td>57</td>\n",
       "      <td>87</td>\n",
       "    </tr>\n",
       "    <tr>\n",
       "      <th>Ideal</th>\n",
       "      <td>12</td>\n",
       "      <td>6</td>\n",
       "      <td>349</td>\n",
       "      <td>47</td>\n",
       "      <td>69</td>\n",
       "    </tr>\n",
       "    <tr>\n",
       "      <th>Premium</th>\n",
       "      <td>70</td>\n",
       "      <td>31</td>\n",
       "      <td>46</td>\n",
       "      <td>268</td>\n",
       "      <td>68</td>\n",
       "    </tr>\n",
       "    <tr>\n",
       "      <th>Very Good</th>\n",
       "      <td>32</td>\n",
       "      <td>92</td>\n",
       "      <td>147</td>\n",
       "      <td>40</td>\n",
       "      <td>172</td>\n",
       "    </tr>\n",
       "  </tbody>\n",
       "</table>\n",
       "</div>"
      ],
      "text/plain": [
       "           Fair  Good  Ideal  Premium  Very Good\n",
       "Fair        333    41     25       73         11\n",
       "Good         90   156     93       57         87\n",
       "Ideal        12     6    349       47         69\n",
       "Premium      70    31     46      268         68\n",
       "Very Good    32    92    147       40        172"
      ]
     },
     "execution_count": 43,
     "metadata": {},
     "output_type": "execute_result"
    }
   ],
   "source": [
    "# Finally, we can see our confusion matrix. Note that this\n",
    "# is a multi-class confusion matrix, so we'll have n x n factors.\n",
    "# We could optionally chart our our binary class prediction values\n",
    "# with a ROC/AUC chart as we did previously, if we used a OvR\n",
    "# (one versus rest) strategy.\n",
    "# We can see that we have quite a few samples that were predicted\n",
    "# as 'Ideal' but were in reality 'Very Good'.\n",
    "\n",
    "pd.DataFrame(confusion_matrix(y_test, \\\n",
    "    rs.best_estimator_.predict(X_test)),\\\n",
    "    columns=le.classes_, index=le.classes_)"
   ]
  }
 ],
 "metadata": {
  "anaconda-cloud": {},
  "kernelspec": {
   "display_name": "Python 3",
   "language": "python",
   "name": "python3"
  },
  "language_info": {
   "codemirror_mode": {
    "name": "ipython",
    "version": 3
   },
   "file_extension": ".py",
   "mimetype": "text/x-python",
   "name": "python",
   "nbconvert_exporter": "python",
   "pygments_lexer": "ipython3",
   "version": "3.6.6"
  }
 },
 "nbformat": 4,
 "nbformat_minor": 1
}
